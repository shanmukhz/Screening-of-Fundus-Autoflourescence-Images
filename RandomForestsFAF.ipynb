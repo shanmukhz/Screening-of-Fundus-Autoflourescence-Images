{
  "nbformat": 4,
  "nbformat_minor": 0,
  "metadata": {
    "colab": {
      "name": "RandomForestsFAF.ipynb",
      "provenance": [],
      "authorship_tag": "ABX9TyNFhBOXxdPmruPVRRLsdZTc"
    },
    "kernelspec": {
      "name": "python3",
      "display_name": "Python 3"
    }
  },
  "cells": [
    {
      "cell_type": "code",
      "metadata": {
        "id": "IRykufuHd-Mp",
        "colab_type": "code",
        "outputId": "9053580f-37d8-49f9-bfe6-805a9740b483",
        "colab": {
          "base_uri": "https://localhost:8080/",
          "height": 122
        }
      },
      "source": [
        "from google.colab import drive\n",
        "drive.mount('/content/drive')"
      ],
      "execution_count": 0,
      "outputs": [
        {
          "output_type": "stream",
          "text": [
            "Go to this URL in a browser: https://accounts.google.com/o/oauth2/auth?client_id=947318989803-6bn6qk8qdgf4n4g3pfee6491hc0brc4i.apps.googleusercontent.com&redirect_uri=urn%3aietf%3awg%3aoauth%3a2.0%3aoob&response_type=code&scope=email%20https%3a%2f%2fwww.googleapis.com%2fauth%2fdocs.test%20https%3a%2f%2fwww.googleapis.com%2fauth%2fdrive%20https%3a%2f%2fwww.googleapis.com%2fauth%2fdrive.photos.readonly%20https%3a%2f%2fwww.googleapis.com%2fauth%2fpeopleapi.readonly\n",
            "\n",
            "Enter your authorization code:\n",
            "··········\n",
            "Mounted at /content/drive\n"
          ],
          "name": "stdout"
        }
      ]
    },
    {
      "cell_type": "code",
      "metadata": {
        "id": "4bSighslZFUG",
        "colab_type": "code",
        "outputId": "c6f67b38-e029-4894-cdd1-204c477aa1cb",
        "colab": {
          "base_uri": "https://localhost:8080/",
          "height": 153
        }
      },
      "source": [
        "import numpy as np # linear algebra\n",
        "import pandas as pd # data processing, CSV file I/O (e.g. pd.read_csv)\n",
        "\n",
        "import os\n",
        "os.chdir('/content/drive/My Drive')\n",
        "!pwd\n",
        "\n",
        "#df = pd.read_csv (r'/content/drive/My Drive/FAFdata.csv')  \n",
        "#print (df)\n",
        "\n",
        "# Load CSV\n",
        "import numpy\n",
        "filename = 'FAFdata.csv'\n",
        "raw_data = open(filename, 'rt')\n",
        "data = numpy.loadtxt(raw_data, delimiter=\",\")\n",
        "print(data.shape)\n",
        "\n",
        "x1 = data[0:61,0:18]    #Normal\n",
        "x2 = data[61:82,0:18]   #CSCR\n",
        "x3 = data[82:96,0:18]   #CNVM\n",
        "x4 = data[96:140,0:18]  #STGD\n",
        "x = numpy.concatenate([x1,x2,x3,x4],axis=0)\n",
        "\n",
        "y1 =data[0:61,18]\n",
        "y2 =data[61:82,18]\n",
        "y3 =data[82:96,18]\n",
        "y4 =data[96:140,18]\n",
        "y = numpy.concatenate([y1,y2,y3,y4],axis=0)\n",
        "\n",
        "print(y)\n",
        "\n",
        "#!pip install sklearn\n",
        "\n"
      ],
      "execution_count": 0,
      "outputs": [
        {
          "output_type": "stream",
          "text": [
            "/content/drive/My Drive\n",
            "(140, 19)\n",
            "[0. 0. 0. 0. 0. 0. 0. 0. 0. 0. 0. 0. 0. 0. 0. 0. 0. 0. 0. 0. 0. 0. 0. 0.\n",
            " 0. 0. 0. 0. 0. 0. 0. 0. 0. 0. 0. 0. 0. 0. 0. 0. 0. 0. 0. 0. 0. 0. 0. 0.\n",
            " 0. 0. 0. 0. 0. 0. 0. 0. 0. 0. 0. 0. 0. 1. 1. 1. 1. 1. 1. 1. 1. 1. 1. 1.\n",
            " 1. 1. 1. 1. 1. 1. 1. 1. 1. 1. 1. 1. 1. 1. 1. 1. 1. 1. 1. 1. 1. 1. 1. 1.\n",
            " 1. 1. 1. 1. 1. 1. 1. 1. 1. 1. 1. 1. 1. 1. 1. 1. 1. 1. 1. 1. 1. 1. 1. 1.\n",
            " 1. 1. 1. 1. 1. 1. 1. 1. 1. 1. 1. 1. 1. 1. 1. 1. 1. 1. 1. 1.]\n"
          ],
          "name": "stdout"
        }
      ]
    },
    {
      "cell_type": "code",
      "metadata": {
        "id": "PcovOwuVGXxR",
        "colab_type": "code",
        "colab": {}
      },
      "source": [
        "n_estimators=500\n",
        "itern = 1000\n",
        "\n",
        "Acc_tr = np.zeros(10) \n",
        "Acc_ts = np.zeros(10)"
      ],
      "execution_count": 0,
      "outputs": []
    },
    {
      "cell_type": "code",
      "metadata": {
        "id": "nT3fZ7YnZHec",
        "colab_type": "code",
        "colab": {}
      },
      "source": [
        "\n",
        "\n",
        "for t in range (9,10):\n",
        "  sr = t*0.1\n",
        "  res_tr=0\n",
        "  res_ts=0\n",
        "\n",
        "\n",
        "  for iter in range(itern):\n",
        "    a_tr = numpy.zeros(itern)\n",
        "    a_ts = numpy.zeros(itern)\n",
        "\n",
        "    from sklearn.ensemble import RandomForestClassifier\n",
        "    from sklearn.metrics import accuracy_score\n",
        "\n",
        "    from sklearn.model_selection import train_test_split\n",
        "    x_train,x_test,y_train,y_test=train_test_split(x,y,test_size=sr)\n",
        "    #x1_train,x1_test,y1_train,y1_test=train_test_split(x1,y1,test_size=sr)\n",
        "    #x2_train,x2_test,y2_train,y2_test=train_test_split(x2,y2,test_size=sr)\n",
        "    #x3_train,x3_test,y3_train,y3_test=train_test_split(x3,y3,test_size=sr)\n",
        "    #x4_train,x4_test,y4_train,y4_test=train_test_split(x4,y4,test_size=sr)\n",
        "\n",
        "\n",
        "    #x_train = numpy.concatenate([x1_train,x2_train,x3_train,x4_train],axis=0)\n",
        "    #x_test = numpy.concatenate([x1_test,x2_test,x3_test,x4_test],axis=0)\n",
        "    #y_train = numpy.concatenate([y1_train,y2_train,y3_train,y4_train],axis=0)\n",
        "    #y_test = numpy.concatenate([y1_test,y2_test,y3_test,y4_test],axis=0)\n",
        "    \n",
        "  \n",
        "\n",
        "\n",
        "    # Create the model with 100 trees\n",
        "    model = RandomForestClassifier(n_estimators, \n",
        "                                   bootstrap = True,\n",
        "                                   max_features = 'sqrt')\n",
        "    # Fit on training data\n",
        "    model.fit(x_train, y_train)\n",
        "\n",
        "    # --- Predictions ---\n",
        "\n",
        "    rf_pred_tr = model.predict(x_train)\n",
        "    a_tr[iter] = accuracy_score(rf_pred_tr, y_train)\n",
        "\n",
        "    rf_pred_ts = model.predict(x_test)\n",
        "    a_ts[iter] = accuracy_score(rf_pred_ts, y_test)\n",
        "\n",
        "    res_tr += a_tr[iter]\n",
        "    res_ts += a_ts[iter]\n",
        "    print(iter)\n",
        "    \n",
        "  \n",
        "  print(sr)\n",
        "  print(res/n_estimators)\n",
        "  Acc_tr[t] = res_tr/itern\n",
        "  Acc_ts[t] = res_ts/itern\n",
        "\n",
        "  # Probabilities for each class\n",
        "  #rf_probs = model.predict_proba(test)[:, 1]\n",
        "\n",
        "  #from sklearn.metrics import roc_auc_score\n",
        "\n",
        "  # Calculate roc auc\n",
        "  #roc_value = roc_auc_score(test_labels, rf_probs)"
      ],
      "execution_count": 0,
      "outputs": []
    },
    {
      "cell_type": "code",
      "metadata": {
        "id": "tEJLqKVtrDsk",
        "colab_type": "code",
        "outputId": "32c36a86-a7ae-4142-d4e9-c4d2f2d9cdc7",
        "colab": {
          "base_uri": "https://localhost:8080/",
          "height": 347
        }
      },
      "source": [
        "print(Acc_tr)\n",
        "print(Acc_ts)\n",
        "\n",
        "\n",
        "import matplotlib.pyplot as plt\n",
        "plt.plot(Acc_tr[1:10])#[1:15])\n",
        "plt.plot(Acc_ts[1:10])#[15:35,])\n",
        "plt.xlabel('split ratio')\n",
        "plt.ylabel('Accuracy')"
      ],
      "execution_count": 0,
      "outputs": [
        {
          "output_type": "stream",
          "text": [
            "[0. 1. 1. 1. 1. 1. 1. 1. 1. 1.]\n",
            "[0.         0.889      0.88035714 0.8764186  0.86121429 0.85488571\n",
            " 0.83917647 0.82169697 0.78566071 0.70569841]\n"
          ],
          "name": "stdout"
        },
        {
          "output_type": "execute_result",
          "data": {
            "text/plain": [
              "Text(0, 0.5, 'Accuracy')"
            ]
          },
          "metadata": {
            "tags": []
          },
          "execution_count": 28
        },
        {
          "output_type": "display_data",
          "data": {
            "image/png": "[encoded data removed]",
            "text/plain": [
              "<Figure size 432x288 with 1 Axes>"
            ]
          },
          "metadata": {
            "tags": []
          }
        }
      ]
    },
    {
      "cell_type": "code",
      "metadata": {
        "id": "fSrGtWqMM0Eu",
        "colab_type": "code",
        "outputId": "ead894f2-2a32-45e2-9bf7-4c1bee891796",
        "colab": {
          "base_uri": "https://localhost:8080/",
          "height": 330
        }
      },
      "source": [
        "print(Acc_ts[::-1])\n",
        "new = Acc_ts[::-1]\n",
        "plt.plot(new[0:9])#[15:35,])\n",
        "plt.xlabel('split ratio')\n",
        "plt.ylabel('Accuracy')"
      ],
      "execution_count": 0,
      "outputs": [
        {
          "output_type": "stream",
          "text": [
            "[0.70569841 0.78566071 0.82169697 0.83917647 0.85488571 0.86121429\n",
            " 0.8764186  0.88035714 0.889      0.        ]\n"
          ],
          "name": "stdout"
        },
        {
          "output_type": "execute_result",
          "data": {
            "text/plain": [
              "Text(0, 0.5, 'Accuracy')"
            ]
          },
          "metadata": {
            "tags": []
          },
          "execution_count": 32
        },
        {
          "output_type": "display_data",
          "data": {
            "image/png": "[encoded data removed]",
            "text/plain": [
              "<Figure size 432x288 with 1 Axes>"
            ]
          },
          "metadata": {
            "tags": []
          }
        }
      ]
    },
    {
      "cell_type": "code",
      "metadata": {
        "id": "vFADZ2dZvVeR",
        "colab_type": "code",
        "outputId": "0a19cbc0-abd2-4eb9-8ad1-5115dbc54e14",
        "colab": {
          "base_uri": "https://localhost:8080/",
          "height": 296
        }
      },
      "source": [
        "sv = [78.97, 84.32, 86.66, 88.11,88.89,89.58,90.10,90.55,90.83]\n",
        "plt.plot(sv[0:9],label ='SVM')\n",
        "\n",
        "plt.plot(new[0:9]*100,label ='RBF')#[15:35,])\n",
        "plt.xlabel('split ratio')\n",
        "plt.ylabel('Accuracy')\n",
        "plt.legend()\n"
      ],
      "execution_count": 0,
      "outputs": [
        {
          "output_type": "execute_result",
          "data": {
            "text/plain": [
              "<matplotlib.legend.Legend at 0x7f883f0d39b0>"
            ]
          },
          "metadata": {
            "tags": []
          },
          "execution_count": 38
        },
        {
          "output_type": "display_data",
          "data": {
            "image/png": "[encoded data removed]",
            "text/plain": [
              "<Figure size 432x288 with 1 Axes>"
            ]
          },
          "metadata": {
            "tags": []
          }
        }
      ]
    }
  ]
}